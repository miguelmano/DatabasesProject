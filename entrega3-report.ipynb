{
 "cells": [
  {
   "attachments": {},
   "cell_type": "markdown",
   "id": "19b43aee-c23f-4ef7-8547-9c309b2dbecb",
   "metadata": {},
   "source": [
    "# Projeto de Bases de Dados - Parte 3\n",
    "\n",
    "### Docente Responsável\n",
    "\n",
    "Prof. FirstName LastName\n",
    "\n",
    "### Grupo GG\n",
    "<dl>\n",
    "    <dt>HH horas (33.3%)</dt>\n",
    "    <dd>istxxxxxxxx FirstName LastName</dd>\n",
    "    <dt>HH horas (33.3%)</dt>\n",
    "    <dd>istxxxxxxxx FirstName LastName</dd>\n",
    "    <dt>HH horas (33.3%)</dt>\n",
    "    <dd>istxxxxxxxx FirstName LastName</dd>\n",
    "<dl>"
   ]
  },
  {
   "cell_type": "code",
   "execution_count": null,
   "id": "a6545a02-adea-4c57-b704-cfa1f6253e4b",
   "metadata": {
    "tags": []
   },
   "outputs": [],
   "source": [
    "%load_ext sql\n",
    "%sql postgresql://db:db@postgres/db"
   ]
  },
  {
   "attachments": {},
   "cell_type": "markdown",
   "id": "1c5deb6e-396e-401f-9b09-af4cd09491a9",
   "metadata": {
    "tags": []
   },
   "source": [
    "# Empresa de comércio online"
   ]
  },
  {
   "attachments": {},
   "cell_type": "markdown",
   "id": "76eab1e8-8d6a-41e3-b242-553a7f14ba84",
   "metadata": {
    "tags": []
   },
   "source": [
    "## 0. Carregamento da Base de Dados"
   ]
  },
  {
   "attachments": {},
   "cell_type": "markdown",
   "id": "e047df4e-b18b-4c70-8f7b-378b4201ee01",
   "metadata": {},
   "source": [
    "Carregue o esquema de Base de Dados apresentado no Anexo A."
   ]
  },
  {
   "cell_type": "code",
   "execution_count": null,
   "id": "c718077c-5193-47a0-bb76-8f1f43a713be",
   "metadata": {},
   "outputs": [],
   "source": [
    "%%sql\n",
    "\n",
    "DROP TABLE IF EXISTS customer CASCADE;\n",
    "DROP TABLE IF EXISTS orders CASCADE;\n",
    "DROP TABLE IF EXISTS pay CASCADE;\n",
    "DROP TABLE IF EXISTS employee CASCADE;\n",
    "DROP TABLE IF EXISTS process CASCADE;\n",
    "DROP TABLE IF EXISTS department CASCADE;\n",
    "DROP TABLE IF EXISTS workplace CASCADE;\n",
    "DROP TABLE IF EXISTS works CASCADE;\n",
    "DROP TABLE IF EXISTS office CASCADE;\n",
    "DROP TABLE IF EXISTS warehouse CASCADE;\n",
    "DROP TABLE IF EXISTS product CASCADE;\n",
    "DROP TABLE IF EXISTS contains CASCADE;\n",
    "DROP TABLE IF EXISTS supplier CASCADE;\n",
    "DROP TABLE IF EXISTS delivery CASCADE;\n",
    "\n",
    "CREATE TABLE customer(\n",
    "cust_no INTEGER PRIMARY KEY,\n",
    "name VARCHAR(80) NOT NULL,\n",
    "email VARCHAR(254) UNIQUE NOT NULL,\n",
    "phone VARCHAR(15),\n",
    "address VARCHAR(255)\n",
    ");\n",
    "\n",
    "CREATE TABLE orders(\n",
    "order_no INTEGER PRIMARY KEY,\n",
    "cust_no INTEGER NOT NULL REFERENCES customer,\n",
    "date DATE NOT NULL\n",
    "--order_no must exist in contains\n",
    ");\n",
    "\n",
    "CREATE TABLE pay(\n",
    "order_no INTEGER PRIMARY KEY REFERENCES orders,\n",
    "cust_no INTEGER NOT NULL REFERENCES customer\n",
    ");\n",
    "\n",
    "CREATE TABLE employee(\n",
    "ssn VARCHAR(20) PRIMARY KEY,\n",
    "TIN VARCHAR(20) UNIQUE NOT NULL,\n",
    "bdate DATE,\n",
    "name VARCHAR NOT NULL\n",
    "--age must be >=18\n",
    ");\n",
    "\n",
    "CREATE TABLE process(\n",
    "ssn VARCHAR(20) REFERENCES employee,\n",
    "order_no INTEGER REFERENCES orders,\n",
    "PRIMARY KEY (ssn, order_no)\n",
    ");\n",
    "\n",
    "CREATE TABLE department(\n",
    "name VARCHAR PRIMARY KEY\n",
    ");\n",
    "\n",
    "CREATE TABLE workplace(\n",
    "address VARCHAR PRIMARY KEY,\n",
    "lat NUMERIC(8, 6) NOT NULL,\n",
    "long NUMERIC(9, 6) NOT NULL,\n",
    "UNIQUE(lat, long)\n",
    "--address must be in warehouse or office but not both\n",
    ");\n",
    "\n",
    "CREATE TABLE office(\n",
    "address VARCHAR(255) PRIMARY KEY REFERENCES workplace\n",
    ");\n",
    "\n",
    "CREATE TABLE warehouse(\n",
    "address VARCHAR(255) PRIMARY KEY REFERENCES workplace\n",
    ");\n",
    "\n",
    "CREATE TABLE works(\n",
    "ssn VARCHAR(20) REFERENCES employee,\n",
    "name VARCHAR(200) REFERENCES department,\n",
    "address VARCHAR(255) REFERENCES workplace,\n",
    "PRIMARY KEY (ssn, name, address)\n",
    ");\n",
    "\n",
    "CREATE TABLE product(\n",
    "SKU VARCHAR(25) PRIMARY KEY,\n",
    "name VARCHAR(200) NOT NULL,\n",
    "description VARCHAR,\n",
    "price NUMERIC(10, 2) NOT NULL,\n",
    "ean NUMERIC(13) UNIQUE\n",
    ");\n",
    "\n",
    "CREATE TABLE contains(\n",
    "order_no INTEGER REFERENCES orders,\n",
    "SKU VARCHAR(25) REFERENCES product,\n",
    "qty INTEGER,\n",
    "PRIMARY KEY (order_no, SKU)\n",
    ");\n",
    "\n",
    "CREATE TABLE supplier(\n",
    "TIN VARCHAR(20) PRIMARY KEY,\n",
    "name VARCHAR(200),\n",
    "address VARCHAR(255),\n",
    "SKU VARCHAR(25) REFERENCES product,\n",
    "date DATE\n",
    ");\n",
    "\n",
    "CREATE TABLE delivery(\n",
    "address VARCHAR(255) REFERENCES warehouse,\n",
    "TIN VARCHAR(20) REFERENCES supplier,\n",
    "PRIMARY KEY (address, TIN)\n",
    ");"
   ]
  },
  {
   "attachments": {},
   "cell_type": "markdown",
   "id": "25fcb3f3-2ec6-4264-bd74-d07bfd56fa76",
   "metadata": {},
   "source": [
    "Crie as instruções para o seu preenchimento de forma consistente, garantindo que todas as consultas SQL e OLAP, apresentadas mais adiante, produzam um resultado não vazio. "
   ]
  },
  {
   "cell_type": "code",
   "execution_count": null,
   "id": "e33d841c-c21e-4a9a-88b4-00b45b039261",
   "metadata": {
    "tags": []
   },
   "outputs": [],
   "source": [
    "%%sql\n",
    "-- populate.sql\n",
    "INSERT INTO customer VALUES\n",
    "  (1, 'Customer 1', 'customer1@gmail.com', '912234234', 'Rua Carlos Cruz 10 1701-123 Lisboa'),\n",
    "  (2, 'Customer 2', 'customer2@gmail.com', '922222222', 'Rua Inês Marques 21 1878-123 Lisboa')\n",
    "  (3, 'Customer 3', 'customer3@gmail.com', '913232321', 'Rua António Cruz 33 1776-123 Lisboa'),\n",
    "  (4, 'Customer 4', 'customer4@gmail.com', '919090909', 'Rua João dos Anjos 44 1240-123 Lisboa'),\n",
    "  (5, 'Customer 5', 'customer5@gmail.com', '923131231', 'Rua dos abacaxis 20 1120-123 Lisboa'),\n",
    "  (6, 'Customer 6', 'customer6@gmail.com', '912313446', 'Rua das pereiras 43 1230-123 Lisboa');\n",
    "  \n",
    "\n",
    "    INSERT INTO order VALUES\n",
    "  (1, 1, '2023-05-10'),\n",
    "  (2, 2,'2023-05-15'),\n",
    "  (3, 2, '2023-05-20'),\n",
    "  (4, 3, '2023-05-25'),\n",
    "  (5, 4, '2023-05-30'),\n",
    "  (6, 5, '2023-06-01'),\n",
    "  (7, 6, '2022-05-25'),\n",
    "  (8, 4, '2022-05-30'),\n",
    "  (9, 5, '2022-06-01'),\n",
    "  \n",
    "\n",
    "  INSERT INTO pay VALUES\n",
    " (1, 1),\n",
    " (2, 2),\n",
    " (3, 2),\n",
    " (4, 3);\n",
    "\n",
    " INSERT INTO employee VALUES\n",
    "  (12, 1234, '1999-06-12', 'Employee 1'),\n",
    "  (21, 9876, '1999-06-11', 'Employee 2'),\n",
    "  (32, 2234, '1999-06-17', 'Employee 3'),\n",
    "  (44, 1824, '2000-01-01', 'Employee 4'),\n",
    "  (51, 3234, '2000-03-01', 'Employee 5'),\n",
    "  (66, 2876, '2000-01-06', 'Employee 6'),\n",
    "\n",
    "  INSERT INTO process VALUES\n",
    "  (12, 1),\n",
    "  (21, 2),\n",
    "  (32, 3),\n",
    "  (44, 4),\n",
    "  (51, 5),\n",
    "  (66, 6),\n",
    "  (66, 7),\n",
    "  (66, 8),\n",
    "  (66, 9);\n",
    "\n",
    "  INSERT INTO department VALUES\n",
    "  ('HR'),\n",
    "  ('Marketing'),\n",
    "  ('Research'),\n",
    "  ('IT');\n",
    "\n",
    "INSERT INTO workplace VALUES\n",
    "  ('Rua Caio 25 1700-123 Lisboa', 20.1000, -74.2121),\n",
    "  ('Rua Torga 10 1750-120 Lisboa', 10.2323, -55.1000),\n",
    "  ('Rua Caio 10 1700-124 Lisboa', 21.1000, -72.2121),\n",
    "  ('Rua Torga 25 1750-121 Lisboa', 12.2323, -52.1000)\n",
    "  ('Rua Caio 5 1700-123 Lisboa', 22.1000, -73.2121),\n",
    "  ('Rua Torga 11 1750-123 Lisboa', 15.2323, -56.1000);\n",
    "\n",
    "INSERT INTO office VALUES\n",
    "  ('Rua Caio 25 1700-123 Lisboa'),\n",
    "  ('Rua Torga 11 1750-123 Lisboa'),\n",
    "  ('Rua Caio 10 1700-124 Lisboa');\n",
    "\n",
    "INSERT INTO warehouse VALUES\n",
    "  ('Rua Torga 10 1700-124 Lisboa'),\n",
    "  ('Rua Torga 25 1750-121 Lisboa'),\n",
    "  ('Rua Caio 5 1700-123 Lisboa');\n",
    "\n",
    "INSERT INTO works VALUES\n",
    "  (12, 'IT', 'Rua Caio 25 1700-123 Lisboa'),\n",
    "  (21, 'HR', 'Rua Torga 11 1750-123 Lisboa'),\n",
    "  (32, 'Marketing', 'Rua Caio 10 1700-124 Lisboa'),\n",
    "  (44, 'HR', 'Rua Caio 5 1700-123 Lisboa'),\n",
    "  (51, 'IT', 'Rua Torga 25 1750-121 Lisboa'),\n",
    "  (66, 'Research', 'Rua Torga 10 1700-124 Lisboa')\n",
    "\n",
    "INSERT INTO product VALUES\n",
    "  (1, 'Product A', 'Description of Product A', 9.99, '1234567890911'),\n",
    "  (2, 'Product B', 'Description of Product B', 10.50, '9876543210285'),\n",
    "  (3, 'Product C', 'Description of Product C', 9.99, '1234567891016'),\n",
    "  (4, 'Product D', 'Description of Product D', 10.50, '9876543211749'),\n",
    "  (5, 'Product A', 'Description of Product E', 9.99, '1234567892098'),\n",
    "  (6, 'Product B', 'Description of Product F', 10.50, '9876543212523'),\n",
    "  (7, 'Product C', 'Description of Product G', 9.99, '1234567893211'),\n",
    "  (8, 'Product D', 'Description of Product H', 10.50, '9876543213213');\n",
    "\n",
    "INSERT INTO contains VALUES\n",
    "  (1, 2, 2),\n",
    "  (2, 3, 4),\n",
    "  (3, 4, 1),\n",
    "  (3, 1, 25),\n",
    "  (4, 5, 3),\n",
    "  (5, 6, 2),\n",
    "  (6, 7, 5),\n",
    "  (6, 8, 10),\n",
    "  (7, 1, 5),\n",
    "  (8, 3, 10),\n",
    "  (9, 5, 10);\n",
    "\n",
    "  INSERT INTO supplier VALUES\n",
    "  (123456789, 'Supplier X', 'Rua dos Marcos 5 1900-123 Lisboa', 1, '2023-01-10'),\n",
    "  (987654321, 'Supplier Y', 'Rua Carlos Meireles 10 1900-023 Lisboa', 2, '2023-02-15'),\n",
    "  (123456781, 'Supplier Z', 'Rua Manuel Silva 10 1900-120 Lisboa', 3, '2023-01-10'),\n",
    "  (987654322, 'Supplier W', 'Rua dos Marcos 10 1900-124 Lisboa', 4, '2023-02-15')\n",
    "  (123456782, 'Supplier I', 'Rua Manuel Silva 11 1900-123 Lisboa', 5, '2023-01-10'),\n",
    "  (987654323, 'Supplier P', 'Rua Pedro Pais 10 1900-523 Lisboa', 6, '2023-02-15'),\n",
    "  (123456783, 'Supplier L', 'Rua dos Marcos 12 1900-126 Lisboa', 7, '2023-01-10'),\n",
    "  (987654324, 'Supplier M', 'Rua Pedro Pais 20 1900-140 Lisboa', 8, '2023-02-15');\n",
    " \n",
    "INSERT INTO delivery VALUES\n",
    "  ('Rua Caio 5 1700-123 Lisboa', 123456789),\n",
    "  ('Rua Torga 10 1700-124 Lisboa', 987654321),\n",
    "  ('Rua Torga 10 1700-124 Lisboa', 123456781),\n",
    "  ('Rua Torga 10 1700-124 Lisboa', 987654323),\n",
    "  ('Rua Torga 25 1750-121 Lisboa', 987654324),\n",
    "  ('Rua Torga 25 1750-121 Lisboa', 123456783);\n",
    "  "
   ]
  },
  {
   "attachments": {},
   "cell_type": "markdown",
   "id": "9772880f-58f0-46c8-9670-737390210bb4",
   "metadata": {
    "tags": []
   },
   "source": [
    "## 1. Restrições de Integridade\n",
    "\n",
    "Apresente o código para implementar as seguintes restrições de integridade, se necessário, com recurso a extensões procedimentais SQL (Stored Procedures e Triggers):"
   ]
  },
  {
   "attachments": {},
   "cell_type": "markdown",
   "id": "a0a92dd6-9093-4f4e-addf-591d83c466b3",
   "metadata": {},
   "source": [
    "(RI-1) Nenhum empregado pode ter menos de 18 anos de idade"
   ]
  },
  {
   "cell_type": "code",
   "execution_count": null,
   "id": "c422052c-0463-46ae-9be1-b6f6ed19d2b9",
   "metadata": {
    "tags": []
   },
   "outputs": [],
   "source": [
    "%%sql\n",
    "-- (RI-1)\n",
    "CREATE TABLE employee(\n",
    "ssn VARCHAR(20) PRIMARY KEY,\n",
    "TIN VARCHAR(20) UNIQUE NOT NULL,\n",
    "bdate DATE,\n",
    "name VARCHAR NOT NULL\n",
    "CONSTRAINT CHECK ((EXTRACT(YEAR FROM bdate))<2005)\n",
    ");"
   ]
  },
  {
   "attachments": {},
   "cell_type": "markdown",
   "id": "e99193b5-fd48-4601-a226-34432074af53",
   "metadata": {},
   "source": [
    "(RI-2) Um 'Workplace' é obrigatoriamente um 'Office' ou 'Warehouse' mas não pode ser ambos"
   ]
  },
  {
   "cell_type": "code",
   "execution_count": null,
   "id": "188ec396-6e55-4fd3-b436-dcafe454f677",
   "metadata": {
    "tags": []
   },
   "outputs": [],
   "source": [
    "%%sql\n",
    "-- (RI-2)\n",
    "\n",
    "CREATE OR REPLACE FUNCTION cancel_office_creation_func() RETURNS TRIGGER AS\n",
    "$$\n",
    "BEGIN\n",
    "    IF NEW.address IN (SELECT address FROM warehouse) THEN\n",
    "        RAISE EXCEPTION 'Ja existe warehouse com o endereco: % ',NEW.address;\n",
    "    END IF;\n",
    "    RETURN NEW;\n",
    "END\n",
    "$$ LANGUAGE plpgsql;\n",
    "\n",
    "CREATE TRIGGER cancel_office_creation BEFORE INSERT OR UPDATE ON office\n",
    "FOR EACH ROW EXECUTE FUNCTION cancel_office_creation_func();\n",
    "\n",
    "\n",
    "CREATE OR REPLACE FUNCTION cancel_warehouse_creation_func() RETURNS TRIGGER AS\n",
    "$$\n",
    "BEGIN\n",
    "    IF NEW.address IN (SELECT address FROM office) THEN\n",
    "        RAISE EXCEPTION 'Ja existe office com o endereco: % ',NEW.address;\n",
    "    END IF;\n",
    "    RETURN NEW;\n",
    "END\n",
    "$$ LANGUAGE plpgsql;\n",
    "\n",
    "CREATE TRIGGER cancel_warehouse_creation BEFORE INSERT OR UPDATE ON warehouse\n",
    "FOR EACH ROW EXECUTE FUNCTION cancel_warehouse_creation_func();\n"
   ]
  },
  {
   "attachments": {},
   "cell_type": "markdown",
   "id": "7e659751-bbd0-475a-b36e-8d40d7d58a54",
   "metadata": {},
   "source": [
    "(RI-3) Uma 'Order' tem de figurar obrigatoriamente em 'Contains'."
   ]
  },
  {
   "cell_type": "code",
   "execution_count": null,
   "id": "f2993b94-77a8-4b09-b522-f39021c55131",
   "metadata": {
    "tags": []
   },
   "outputs": [],
   "source": [
    "%%sql\n",
    "-- (RI-3)\n",
    "\n",
    "CREATE OR REPLACE FUNCTION order_creation_func() RETURNS TRIGGER AS\n",
    "$$\n",
    "BEGIN\n",
    "    IF NEW.order_no NOT IN (SELECT order_no FROM contains) THEN\n",
    "        INSERT INTO contains (NEW.order_no,null,null);\n",
    "    END IF;\n",
    "    RETURN NEW;\n",
    "END\n",
    "$$ LANGUAGE plpgsql;\n",
    "\n",
    "CREATE TRIGGER order_creation_trigger BEFORE INSERT OR UPDATE ON orders\n",
    "FOR EACH ROW EXECUTE FUNCTION order_creation_func();\n",
    "\n",
    "\n",
    "CREATE FUNCTION contains_count (o_no VARCHAR)\n",
    "RETURNS INTEGER\n",
    "AS\n",
    "$$\n",
    "DECLARE o_count INTEGER;\n",
    "BEGIN\n",
    "SELECT COUNT(*) INTO o_count\n",
    "FROM contains\n",
    "WHERE order_no = o_no;\n",
    "RETURN o_count;\n",
    "END\n",
    "$$\n",
    "LANGUAGE plpgsql;\n",
    "\n",
    "CREATE OR REPLACE FUNCTION order_delete_func() RETURNS TRIGGER AS\n",
    "$$\n",
    "BEGIN\n",
    "    IF (contains_count(OLD.order_no)==1) THEN\n",
    "        RAISE EXCEPTION 'Order com order_no: % tem que existir em contains ',OLD.order_no;\n",
    "    END IF;\n",
    "    RETURN NEW;\n",
    "END\n",
    "$$ LANGUAGE plpgsql;\n",
    "\n",
    "CREATE TRIGGER order_delete_trigger BEFORE DELETE ON contains\n",
    "FOR EACH ROW EXECUTE FUNCTION order_delete_func();\n"
   ]
  },
  {
   "attachments": {},
   "cell_type": "markdown",
   "id": "37637f46-470f-431a-9833-4d8665176450",
   "metadata": {
    "tags": []
   },
   "source": [
    "## 2. Consultas SQL"
   ]
  },
  {
   "attachments": {},
   "cell_type": "markdown",
   "id": "f861ee47-e72b-4633-8dac-b4728ed852b9",
   "metadata": {},
   "source": [
    "Apresente a consulta SQL mais sucinta para cada uma das seguintes questões"
   ]
  },
  {
   "attachments": {},
   "cell_type": "markdown",
   "id": "fd2e1654-059e-4ef5-a63d-5e81280baab0",
   "metadata": {},
   "source": [
    "1) Qual o número e nome do(s) cliente(s) com maior valor total de encomendas pagas?  "
   ]
  },
  {
   "cell_type": "code",
   "execution_count": null,
   "id": "5b79ced0-279d-4e04-921e-0c831d7a79f2",
   "metadata": {
    "tags": []
   },
   "outputs": [],
   "source": [
    "%%sql\n",
    "-- SELECT ...\n",
    "SELECT name,cust_no\n",
    "FROM costumer \n",
    "    NATURAL JOIN pay\n",
    "    NATURAL JOIN contains\n",
    "    NATURAL JOIN (SELECT sku,price FROM product)\n",
    "GROUP BY ssn\n",
    "HAVING SUM(qty*price)>= ALL\n",
    "    (SELECT SUM(qty*price)\n",
    "    FROM costumer \n",
    "    NATURAL JOIN pay\n",
    "    NATURAL JOIN contains\n",
    "    NATURAL JOIN (SELECT sku,price FROM product)\n",
    "    GROUP BY ssn)\n"
   ]
  },
  {
   "attachments": {},
   "cell_type": "markdown",
   "id": "4f863499-c40e-428c-85e8-d2741362906d",
   "metadata": {},
   "source": [
    "2. Qual o nome dos empregados que processaram encomendas em todos os dias de 2022 em que houve encomendas?"
   ]
  },
  {
   "cell_type": "code",
   "execution_count": null,
   "id": "aadac5e9-d0e4-46e0-bab5-33d00b863884",
   "metadata": {
    "tags": []
   },
   "outputs": [],
   "source": [
    "%%sql\n",
    "-- SELECT ...\n",
    "WITH orderDays AS(\n",
    "    SELECT COUNT(DISTINCT(date)) AS workingDays FROM orders WHERE EXTRACT(YEAR FROM date)=2022),\n",
    "employeeWorkingDays AS(\n",
    "    SELECT name,TIN,COUNT(DISTINCT(date)) AS workingDays\n",
    "    FROM employee \n",
    "    NATURAL JOIN process\n",
    "    NATURAL JOIN orders (SELECT * FROM orders WHERE EXTRACT(YEAR FROM date)=2022)\n",
    "    GROUP BY TIN\n",
    ")\n",
    "SELECT name FROM employeeWorkingDays WHERE workingDays IN (SELECT workingDAYS FROM orderDays);\n"
   ]
  },
  {
   "attachments": {},
   "cell_type": "markdown",
   "id": "e871bc9e-60c4-465b-a727-9ff2d2115d0b",
   "metadata": {},
   "source": [
    "3. Quantas encomendas foram realizadas mas não pagas em cada mês de 2022?"
   ]
  },
  {
   "cell_type": "code",
   "execution_count": null,
   "id": "3e3e702e-1acb-4004-aa9e-31e4d5916669",
   "metadata": {
    "tags": []
   },
   "outputs": [],
   "source": [
    "%%sql\n",
    "-- SELECT ...\n",
    "SELECT EXTRACT(MONTH FROM date) AS month, COUNT (DISTINCT(order_no)) AS numUnpaidOrders\n",
    "FROM orders WHERE order_no NOT IN(SELECT order_no FROM pay) AND EXTRACT(YEAR FROM date)=2022\n",
    "GROUP BY EXTRACT(MONTH FROM date) AS month;\n",
    "  \n"
   ]
  },
  {
   "attachments": {},
   "cell_type": "markdown",
   "id": "97f45cec-fe42-418a-b85d-c9e51807a42c",
   "metadata": {},
   "source": [
    "## 3. Vistas"
   ]
  },
  {
   "attachments": {},
   "cell_type": "markdown",
   "id": "03062b56-40fa-41c0-aac9-3e77b9049c27",
   "metadata": {},
   "source": [
    "Crie uma vista que resuma as informações mais importantes sobre as vendas de produtos, combinando informações de diferentes tabelas do esquema de base de dados. A vista deve ter o seguinte esquema:\n",
    "\n",
    "product_sales(sku, order_no, qty, total_price, year, month, day_of_month, day_of_week, city)"
   ]
  },
  {
   "cell_type": "code",
   "execution_count": null,
   "id": "0bbb2226-5de4-4051-b4c0-9130bd4904f5",
   "metadata": {
    "tags": []
   },
   "outputs": [],
   "source": [
    "%%sql\n",
    "-- CREATE VIEW ...\n",
    "CREATE VIEW product_sales AS\n",
    "SELECT sku, order_no, qty, (qty * price) AS total_price, year, month, day_of_month, day_of_week, city\n",
    "FROM contains NATURAL JOIN pay\n",
    "              NATURAL JOIN (SELECT sku, price FROM  product)\n",
    "              NATURAL JOIN (SELECT order_no, EXTRACT(YEAR FROM date) AS year, EXTRACT(MONTH FROM date) AS month, EXTRACT(DAY FROM date) AS day_of_month, EXTRACT(DAYOFWEEK FROM date) AS day_of_week FROM orders) \n",
    "              NATURAL JOIN (SELECT cust_no, RIGHT(address, CHARINDEX (' ', REVERSE(address))-1) AS city FROM customer);"
   ]
  },
  {
   "attachments": {},
   "cell_type": "markdown",
   "id": "6b615865-602f-4974-9de1-27d0060362ef",
   "metadata": {
    "tags": []
   },
   "source": [
    "## 4. Desenvolvimento de Aplicação"
   ]
  },
  {
   "attachments": {},
   "cell_type": "markdown",
   "id": "0bad635d-f5c2-449f-97b0-90d10a4d482b",
   "metadata": {},
   "source": [
    "### Explicação da arquitetura da aplicação web, incluindo um link para uma versão de trabalho e as relações entre os vários ficheiros na pasta web/arquivos\n",
    "\n",
    "..."
   ]
  },
  {
   "attachments": {},
   "cell_type": "markdown",
   "id": "5dff0f43-90cc-4ab5-b874-c3fb24776728",
   "metadata": {},
   "source": [
    "## 5. Consultas OLAP"
   ]
  },
  {
   "attachments": {},
   "cell_type": "markdown",
   "id": "5c8c25ed-b858-4daf-a291-b59e489c0a44",
   "metadata": {},
   "source": [
    "Usando a vista desenvolvida para a Questão 3, escreva duas consultas SQL que permitam analisar:"
   ]
  },
  {
   "attachments": {},
   "cell_type": "markdown",
   "id": "bd8d173c-e72f-4e89-8949-e2df3b7b07a3",
   "metadata": {},
   "source": [
    "1. As quantidade e valores totais de venda de cada produto em 2022, globalmente, por cidade, por mês, dia do mês e dia da semana"
   ]
  },
  {
   "cell_type": "code",
   "execution_count": null,
   "id": "bf12ce01-15c0-4e7c-b329-576dd344ebf6",
   "metadata": {
    "tags": []
   },
   "outputs": [],
   "source": [
    "%%sql\n",
    "-- SELECT ...\n",
    "SELECT sku, city, month, day_of_month, day_of_week, SUM(qty) AS total_qty, SUM(total_price) AS total_value\n",
    "FROM product_sales\n",
    "WHERE year = 2022\n",
    "GROUP BY ROLLUP(sku, city, month, day_of_month, day_of_week)\n"
   ]
  },
  {
   "attachments": {},
   "cell_type": "markdown",
   "id": "a6f88296-429c-4c1c-9a7a-5cbe9cb65920",
   "metadata": {},
   "source": [
    "2. O valor médio diário das vendas de todos os produtos em 2022, globalmente, por mês e dia da semana"
   ]
  },
  {
   "cell_type": "code",
   "execution_count": null,
   "id": "7aac0901-02ad-4a40-964e-dc03430f8e77",
   "metadata": {
    "tags": []
   },
   "outputs": [],
   "source": [
    "%%sql\n",
    "-- SELECT ...\n",
    "SELECT month, day_of_week, AVG(total_price) AS average_daily_sales\n",
    "FROM product_sales\n",
    "WHERE year = 2022\n",
    "GROUP BY ROLLUP(month, day_of_week)"
   ]
  },
  {
   "attachments": {},
   "cell_type": "markdown",
   "id": "5a75300b-51d0-4512-8b50-ffac98d66070",
   "metadata": {
    "tags": []
   },
   "source": [
    "## 6. Índices"
   ]
  },
  {
   "attachments": {},
   "cell_type": "markdown",
   "id": "35f160cc-30e9-4381-9b3e-0d78ef421af8",
   "metadata": {
    "tags": []
   },
   "source": [
    "Indique, com a devida justificação, que tipo de índice(s), sobre qual(is) atributo(s) e sobre qual(is) tabela(s) faria sentido criar, de forma a agilizar a execução de cada uma das seguintes consultas: "
   ]
  },
  {
   "attachments": {},
   "cell_type": "markdown",
   "id": "6e6e7eb2-c8ba-4d93-a31b-a2384d538fc0",
   "metadata": {},
   "source": [
    "### 6.1\n",
    "SELECT order_no\n",
    "FROM orders \n",
    "JOIN contains USING (order_no) \n",
    "JOIN product USING (SKU) \n",
    "WHERE price > 50 AND \n",
    "EXTRACT(YEAR FROM date) = 2023"
   ]
  },
  {
   "attachments": {},
   "cell_type": "markdown",
   "id": "b12768c7-efcc-4550-a7c1-7f8bbafd6409",
   "metadata": {},
   "source": [
    "### Tipo de Índice, Atributos & Justificação\n",
    "\n",
    "..."
   ]
  },
  {
   "attachments": {},
   "cell_type": "markdown",
   "id": "89f6cb2b-8425-42f8-810c-9c9e5797b686",
   "metadata": {},
   "source": [
    "### 6.2\n",
    "SELECT order_no, SUM(qty*price)\n",
    "FROM contains \n",
    "JOIN product USING (SKU) \n",
    "WHERE name LIKE ‘A%’ \n",
    "GROUP BY order_no;"
   ]
  },
  {
   "attachments": {},
   "cell_type": "markdown",
   "id": "1af12988-e1f5-4a72-835d-9aba30d0ce88",
   "metadata": {},
   "source": [
    "### Tipo de Índice, Atributos & Justificação\n",
    "\n",
    "..."
   ]
  }
 ],
 "metadata": {
  "kernelspec": {
   "display_name": "Python 3 (ipykernel)",
   "language": "python",
   "name": "python3"
  },
  "language_info": {
   "codemirror_mode": {
    "name": "ipython",
    "version": 3
   },
   "file_extension": ".py",
   "mimetype": "text/x-python",
   "name": "python",
   "nbconvert_exporter": "python",
   "pygments_lexer": "ipython3",
   "version": "3.10.11"
  }
 },
 "nbformat": 4,
 "nbformat_minor": 5
}
